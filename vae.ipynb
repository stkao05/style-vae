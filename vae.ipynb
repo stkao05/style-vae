{
 "cells": [
  {
   "cell_type": "code",
   "execution_count": 112,
   "metadata": {},
   "outputs": [],
   "source": [
    "import torch\n",
    "from torch.utils.data import Dataset, DataLoader\n",
    "import torch.nn as nn\n",
    "import torch\n",
    "import torch.nn as nn\n",
    "import torch.optim as optim\n",
    "from torch.utils.data import DataLoader\n",
    "from tqdm import tqdm"
   ]
  },
  {
   "cell_type": "code",
   "execution_count": null,
   "metadata": {},
   "outputs": [
    {
     "data": {
      "text/plain": [
       "''"
      ]
     },
     "execution_count": 37,
     "metadata": {},
     "output_type": "execute_result"
    }
   ],
   "source": [
    "import torch\n",
    "import torch.nn as nn\n",
    "import torch.nn.functional as F\n",
    "\n",
    "class TransformerVAE(nn.Module):\n",
    "    def __init__(self, seq_len, embed_dim, latent_dim, num_heads, num_layers, vocab_size):\n",
    "        super(TransformerVAE, self).__init__()\n",
    "        self.seq_len = seq_len\n",
    "        self.embed_dim = embed_dim\n",
    "        self.latent_dim = latent_dim\n",
    "\n",
    "        self.embedding = nn.Embedding(vocab_size, embed_dim)\n",
    "        encoder_layer = nn.TransformerEncoderLayer(d_model=embed_dim, nhead=num_heads)\n",
    "        self.encoder = nn.TransformerEncoder(encoder_layer, num_layers=num_layers)\n",
    "\n",
    "        self.fc_mu = nn.Linear(embed_dim * seq_len, latent_dim)\n",
    "        self.fc_logvar = nn.Linear(embed_dim * seq_len, latent_dim)\n",
    "        self.fc_latent_to_hidden = nn.Linear(latent_dim, embed_dim * seq_len)\n",
    "\n",
    "        decoder_layer = nn.TransformerEncoderLayer(d_model=embed_dim, nhead=num_heads)\n",
    "        self.decoder = nn.TransformerEncoder(decoder_layer, num_layers=num_layers)\n",
    "\n",
    "        self.output_layer = nn.Linear(embed_dim, vocab_size)\n",
    "\n",
    "    def encode(self, x):\n",
    "        x = self.embedding(x)  # [batch_size, seq_len, embed_dim]\n",
    "        x = x.permute(1, 0, 2)  # [seq_len, batch_size, embed_dim]\n",
    "        x = self.encoder(x)  # [seq_len, batch_size, embed_dim]\n",
    "        x = x.permute(1, 0, 2).contiguous()  # [batch_size, seq_len, embed_dim]\n",
    "        x = x.view(x.size(0), -1)  # [batch_size, seq_len * embed_dim]\n",
    "        mu = self.fc_mu(x)\n",
    "        logvar = self.fc_logvar(x)\n",
    "        return mu, logvar\n",
    "\n",
    "    def reparameterize(self, mu, logvar):\n",
    "        std = torch.exp(0.5 * logvar)\n",
    "        eps = torch.randn_like(std)\n",
    "        return mu + eps * std\n",
    "\n",
    "    def decode(self, z):\n",
    "        z = self.fc_latent_to_hidden(z)  # [batch_size, seq_len * embed_dim]\n",
    "        z = z.view(z.size(0), self.seq_len, self.embed_dim)  # [batch_size, seq_len, embed_dim]\n",
    "        z = z.permute(1, 0, 2)  # [seq_len, batch_size, embed_dim]\n",
    "\n",
    "        causal_mask = torch.triu(torch.ones(self.seq_len, self.seq_len), diagonal=1).bool().to(z.device)\n",
    "        z = self.decoder(z, mask=causal_mask, is_causal=True)  # [seq_len, batch_size, embed_dim]\n",
    "        z = z.permute(1, 0, 2)  # [batch_size, seq_len, embed_dim]\n",
    "        z = self.output_layer(z)  # [batch_size, seq_len, vocab_size]\n",
    "        return z\n",
    "\n",
    "\n",
    "    def forward(self, x):\n",
    "        mu, logvar = self.encode(x)\n",
    "        z = self.reparameterize(mu, logvar)\n",
    "        xh = self.decode(z)\n",
    "        return xh, mu, logvar\n",
    "\n",
    "\n",
    "def loss_function(recon_x, x, mu, logvar, beta=1.0):\n",
    "    recon_loss = F.cross_entropy(recon_x.view(-1, recon_x.size(-1)), x.view(-1), reduction='mean')\n",
    "    kl_loss = -0.5 * torch.sum(1 + logvar - mu.pow(2) - logvar.exp())\n",
    "    kl_loss /= x.size(0) * x.size(1)\n",
    "    return recon_loss + beta * kl_loss, recon_loss, kl_loss\n",
    "\n",
    "\n",
    "seq_len = 32\n",
    "embed_dim = 128\n",
    "latent_dim = 32\n",
    "num_heads = 2\n",
    "num_layers = 2\n",
    "vocab_size = 128\n",
    "batch_size = 4\n",
    "\n",
    "vae = TransformerVAE(seq_len, embed_dim, latent_dim, num_heads, num_layers, vocab_size)\n",
    "optimizer = torch.optim.SGD(vae.parameters())\n",
    "\n",
    "x = torch.randint(0, vocab_size, (batch_size, seq_len))\n",
    "vae.train()\n",
    ";"
   ]
  },
  {
   "cell_type": "code",
   "execution_count": null,
   "metadata": {},
   "outputs": [
    {
     "name": "stdout",
     "output_type": "stream",
     "text": [
      "First Citizen:\n",
      "Before we proceed any further, hear me speak.\n",
      "\n",
      "All:\n",
      "Speak, speak.\n",
      "\n",
      "First Citizen:\n",
      "You are all resolved rather to \n"
     ]
    }
   ],
   "source": [
    "with open(\"tiny.txt\", 'r', encoding='utf-8') as f:\n",
    "    data = f.read()\n",
    "\n",
    "chars = set([_ for _ in data])\n",
    "c2i = {c:i for i, c in enumerate(chars)}\n",
    "i2c = {i:c for c, i in c2i.items()}\n",
    "\n",
    "class TextDataset(Dataset):\n",
    "    def __init__(self, file_path, seq_len, c2i, split='train'):\n",
    "        with open(file_path, 'r', encoding='utf-8') as f:\n",
    "            data = f.read()\n",
    "\n",
    "        n = len(data)\n",
    "        split_idx = int(n * 0.9)\n",
    "        if split == 'train':\n",
    "            self.data = torch.tensor([c2i[c] for c in data[:split_idx]])\n",
    "        elif split == 'val':\n",
    "            self.data = torch.tensor([c2i[c] for c in data[split_idx:]])\n",
    "        else:\n",
    "            raise ValueError(\"split must be 'train' or 'val'\")\n",
    "        \n",
    "        self.seq_len = seq_len\n",
    "\n",
    "    def __len__(self):\n",
    "        return len(self.data) - self.seq_len\n",
    "\n",
    "    def __getitem__(self, idx):\n",
    "        x = self.data[idx:idx + self.seq_len]\n",
    "        y = self.data[idx + 1:idx + 1 + self.seq_len]\n",
    "        return x, y\n",
    "\n",
    "\n",
    "train_ds = TextDataset(\"./tiny.txt\", seq_len=128, c2i=c2i, split=\"train\")\n",
    "train_dl = DataLoader(train_ds, batch_size=2)\n",
    "\n",
    "x, y = next(iter(train_dl))\n",
    "print(\"\".join([i2c[_.item()] for _ in x[0, 0:128]]))"
   ]
  },
  {
   "cell_type": "code",
   "execution_count": 107,
   "metadata": {},
   "outputs": [
    {
     "name": "stderr",
     "output_type": "stream",
     "text": [
      "/Users/stevenkao/miniconda3/envs/music-hw3/lib/python3.10/site-packages/torch/nn/modules/transformer.py:379: UserWarning: enable_nested_tensor is True, but self.use_nested_tensor is False because encoder_layer.self_attn.batch_first was not True(use batch_first for better inference performance)\n",
      "  warnings.warn(\n"
     ]
    },
    {
     "data": {
      "text/plain": [
       "torch.Size([2, 128, 65])"
      ]
     },
     "execution_count": 107,
     "metadata": {},
     "output_type": "execute_result"
    }
   ],
   "source": [
    "class CharTransfomer(nn.Module):\n",
    "    def __init__(self, vocab_size, embed_dim, num_heads, num_layers):\n",
    "        super(CharTransfomer, self).__init__()\n",
    "        self.embedding = nn.Embedding(vocab_size, embed_dim)\n",
    "        self.decoder_layer = nn.TransformerEncoderLayer(d_model=embed_dim, nhead=num_heads)\n",
    "        self.decoder = nn.TransformerEncoder(self.decoder_layer, num_layers=num_layers)\n",
    "        self.output_layer = nn.Linear(embed_dim, vocab_size)\n",
    "\n",
    "    def forward(self, x):\n",
    "        # Input shape: (batch, seq)\n",
    "        x = self.embedding(x)  # (batch, seq, emb)\n",
    "        x = x.permute(1, 0, 2)  # (seq, batch, emb)\n",
    "        x = self.decoder(x)     # (seq, batch, emb)\n",
    "        x = x.permute(1, 0, 2)  # Back to (batch, seq, emb)\n",
    "        x = self.output_layer(x)  # (batch, seq, vocab_size)\n",
    "        return x\n",
    "\n",
    "\n",
    "vocab_size = len(chars)\n",
    "embed_dim = 128\n",
    "num_heads = 2\n",
    "num_layers = 4\n",
    "\n",
    "model = CharTransfomer(vocab_size, embed_dim=embed_dim, num_heads=num_heads, num_layers=num_layers)\n",
    "x, y = next(iter(train_dl))\n",
    "model(x).shape"
   ]
  },
  {
   "cell_type": "code",
   "execution_count": 110,
   "metadata": {},
   "outputs": [
    {
     "data": {
      "text/plain": [
       "' rxQpPyx?QYA$cOYHW,?sPonWw3\\ncbHGwM;\\neFciWVQtQ-I!LJo\\ntfePVrnO -RvaeP$kbOuIVf,uWE-LcQLW?KR.fYRdlA ?f e'"
      ]
     },
     "execution_count": 110,
     "metadata": {},
     "output_type": "execute_result"
    }
   ],
   "source": [
    "@torch.no_grad()\n",
    "def sample_text(model, i2c, device, max_len=100, start_char_idx=None, temperature=1.0):\n",
    "    model.eval()\n",
    "    vocab_size = len(i2c)\n",
    "    if start_char_idx is None:\n",
    "        start_char_idx = torch.randint(0, vocab_size, (1,)).item()\n",
    "    input_seq = torch.tensor([[start_char_idx]], device=device)\n",
    "    generated_text = [i2c[start_char_idx]]\n",
    "\n",
    "    for _ in range(max_len - 1):\n",
    "        outputs = model(input_seq)\n",
    "        logits = outputs[:, -1, :]\n",
    "        logits = logits / temperature\n",
    "        probs = torch.softmax(logits, dim=-1)\n",
    "        next_char_idx = torch.multinomial(probs, num_samples=1).item()\n",
    "        next_char = i2c[next_char_idx]\n",
    "        generated_text.append(next_char)\n",
    "        input_seq = torch.cat([input_seq, torch.tensor([[next_char_idx]], device=device)], dim=1)\n",
    "\n",
    "    return ''.join(generated_text)\n",
    "\n",
    "\n",
    "sample_text(model, i2c, device=torch.device(\"cpu\"))\n"
   ]
  },
  {
   "cell_type": "code",
   "execution_count": 119,
   "metadata": {},
   "outputs": [
    {
     "name": "stderr",
     "output_type": "stream",
     "text": [
      "epoch 1/1:   0%|          | 1/31367 [00:01<11:15:59,  1.29s/it, loss=4.3685]"
     ]
    },
    {
     "name": "stdout",
     "output_type": "stream",
     "text": [
      "fPrtes e, \n",
      "p T\n",
      " ,UrKl \n",
      "rA\n",
      "ee eM;u  ee B\n",
      "\n",
      "lrereS;t \n",
      "r  e;eSea Qh lvur reNeahe \n",
      "he pVt\n",
      " a\n",
      " t phI Vr Ly\n"
     ]
    },
    {
     "name": "stderr",
     "output_type": "stream",
     "text": [
      "epoch 1/1:   1%|          | 251/31367 [01:33<4:12:09,  2.06it/s, loss=2.6858]"
     ]
    },
    {
     "name": "stdout",
     "output_type": "stream",
     "text": [
      "xsrecdghihisenses an?\n",
      "Wiler rkUSe y, EWhesousek s.s? hsen,std afinofn serawho. t, ofe iak s aese hal\n"
     ]
    },
    {
     "name": "stderr",
     "output_type": "stream",
     "text": [
      "epoch 1/1:   1%|          | 268/31367 [01:39<3:13:01,  2.69it/s, loss=2.9016]\n"
     ]
    },
    {
     "ename": "KeyboardInterrupt",
     "evalue": "",
     "output_type": "error",
     "traceback": [
      "\u001b[0;31m---------------------------------------------------------------------------\u001b[0m",
      "\u001b[0;31mKeyboardInterrupt\u001b[0m                         Traceback (most recent call last)",
      "Cell \u001b[0;32mIn[119], line 26\u001b[0m\n\u001b[1;32m     24\u001b[0m loss \u001b[38;5;241m=\u001b[39m criterion(outputs\u001b[38;5;241m.\u001b[39mview(\u001b[38;5;241m-\u001b[39m\u001b[38;5;241m1\u001b[39m, vocab_size), targets\u001b[38;5;241m.\u001b[39mview(\u001b[38;5;241m-\u001b[39m\u001b[38;5;241m1\u001b[39m))\n\u001b[1;32m     25\u001b[0m optimizer\u001b[38;5;241m.\u001b[39mzero_grad()\n\u001b[0;32m---> 26\u001b[0m \u001b[43mloss\u001b[49m\u001b[38;5;241;43m.\u001b[39;49m\u001b[43mbackward\u001b[49m\u001b[43m(\u001b[49m\u001b[43m)\u001b[49m\n\u001b[1;32m     27\u001b[0m optimizer\u001b[38;5;241m.\u001b[39mstep()\n\u001b[1;32m     28\u001b[0m tq\u001b[38;5;241m.\u001b[39mset_postfix(loss\u001b[38;5;241m=\u001b[39m\u001b[38;5;124mf\u001b[39m\u001b[38;5;124m\"\u001b[39m\u001b[38;5;132;01m{\u001b[39;00mloss\u001b[38;5;241m.\u001b[39mitem()\u001b[38;5;132;01m:\u001b[39;00m\u001b[38;5;124m.4f\u001b[39m\u001b[38;5;132;01m}\u001b[39;00m\u001b[38;5;124m\"\u001b[39m)\n",
      "File \u001b[0;32m~/miniconda3/envs/music-hw3/lib/python3.10/site-packages/torch/_tensor.py:581\u001b[0m, in \u001b[0;36mTensor.backward\u001b[0;34m(self, gradient, retain_graph, create_graph, inputs)\u001b[0m\n\u001b[1;32m    571\u001b[0m \u001b[38;5;28;01mif\u001b[39;00m has_torch_function_unary(\u001b[38;5;28mself\u001b[39m):\n\u001b[1;32m    572\u001b[0m     \u001b[38;5;28;01mreturn\u001b[39;00m handle_torch_function(\n\u001b[1;32m    573\u001b[0m         Tensor\u001b[38;5;241m.\u001b[39mbackward,\n\u001b[1;32m    574\u001b[0m         (\u001b[38;5;28mself\u001b[39m,),\n\u001b[0;32m   (...)\u001b[0m\n\u001b[1;32m    579\u001b[0m         inputs\u001b[38;5;241m=\u001b[39minputs,\n\u001b[1;32m    580\u001b[0m     )\n\u001b[0;32m--> 581\u001b[0m \u001b[43mtorch\u001b[49m\u001b[38;5;241;43m.\u001b[39;49m\u001b[43mautograd\u001b[49m\u001b[38;5;241;43m.\u001b[39;49m\u001b[43mbackward\u001b[49m\u001b[43m(\u001b[49m\n\u001b[1;32m    582\u001b[0m \u001b[43m    \u001b[49m\u001b[38;5;28;43mself\u001b[39;49m\u001b[43m,\u001b[49m\u001b[43m \u001b[49m\u001b[43mgradient\u001b[49m\u001b[43m,\u001b[49m\u001b[43m \u001b[49m\u001b[43mretain_graph\u001b[49m\u001b[43m,\u001b[49m\u001b[43m \u001b[49m\u001b[43mcreate_graph\u001b[49m\u001b[43m,\u001b[49m\u001b[43m \u001b[49m\u001b[43minputs\u001b[49m\u001b[38;5;241;43m=\u001b[39;49m\u001b[43minputs\u001b[49m\n\u001b[1;32m    583\u001b[0m \u001b[43m\u001b[49m\u001b[43m)\u001b[49m\n",
      "File \u001b[0;32m~/miniconda3/envs/music-hw3/lib/python3.10/site-packages/torch/autograd/__init__.py:347\u001b[0m, in \u001b[0;36mbackward\u001b[0;34m(tensors, grad_tensors, retain_graph, create_graph, grad_variables, inputs)\u001b[0m\n\u001b[1;32m    342\u001b[0m     retain_graph \u001b[38;5;241m=\u001b[39m create_graph\n\u001b[1;32m    344\u001b[0m \u001b[38;5;66;03m# The reason we repeat the same comment below is that\u001b[39;00m\n\u001b[1;32m    345\u001b[0m \u001b[38;5;66;03m# some Python versions print out the first line of a multi-line function\u001b[39;00m\n\u001b[1;32m    346\u001b[0m \u001b[38;5;66;03m# calls in the traceback and some print out the last line\u001b[39;00m\n\u001b[0;32m--> 347\u001b[0m \u001b[43m_engine_run_backward\u001b[49m\u001b[43m(\u001b[49m\n\u001b[1;32m    348\u001b[0m \u001b[43m    \u001b[49m\u001b[43mtensors\u001b[49m\u001b[43m,\u001b[49m\n\u001b[1;32m    349\u001b[0m \u001b[43m    \u001b[49m\u001b[43mgrad_tensors_\u001b[49m\u001b[43m,\u001b[49m\n\u001b[1;32m    350\u001b[0m \u001b[43m    \u001b[49m\u001b[43mretain_graph\u001b[49m\u001b[43m,\u001b[49m\n\u001b[1;32m    351\u001b[0m \u001b[43m    \u001b[49m\u001b[43mcreate_graph\u001b[49m\u001b[43m,\u001b[49m\n\u001b[1;32m    352\u001b[0m \u001b[43m    \u001b[49m\u001b[43minputs\u001b[49m\u001b[43m,\u001b[49m\n\u001b[1;32m    353\u001b[0m \u001b[43m    \u001b[49m\u001b[43mallow_unreachable\u001b[49m\u001b[38;5;241;43m=\u001b[39;49m\u001b[38;5;28;43;01mTrue\u001b[39;49;00m\u001b[43m,\u001b[49m\n\u001b[1;32m    354\u001b[0m \u001b[43m    \u001b[49m\u001b[43maccumulate_grad\u001b[49m\u001b[38;5;241;43m=\u001b[39;49m\u001b[38;5;28;43;01mTrue\u001b[39;49;00m\u001b[43m,\u001b[49m\n\u001b[1;32m    355\u001b[0m \u001b[43m\u001b[49m\u001b[43m)\u001b[49m\n",
      "File \u001b[0;32m~/miniconda3/envs/music-hw3/lib/python3.10/site-packages/torch/autograd/graph.py:825\u001b[0m, in \u001b[0;36m_engine_run_backward\u001b[0;34m(t_outputs, *args, **kwargs)\u001b[0m\n\u001b[1;32m    823\u001b[0m     unregister_hooks \u001b[38;5;241m=\u001b[39m _register_logging_hooks_on_whole_graph(t_outputs)\n\u001b[1;32m    824\u001b[0m \u001b[38;5;28;01mtry\u001b[39;00m:\n\u001b[0;32m--> 825\u001b[0m     \u001b[38;5;28;01mreturn\u001b[39;00m \u001b[43mVariable\u001b[49m\u001b[38;5;241;43m.\u001b[39;49m\u001b[43m_execution_engine\u001b[49m\u001b[38;5;241;43m.\u001b[39;49m\u001b[43mrun_backward\u001b[49m\u001b[43m(\u001b[49m\u001b[43m  \u001b[49m\u001b[38;5;66;43;03m# Calls into the C++ engine to run the backward pass\u001b[39;49;00m\n\u001b[1;32m    826\u001b[0m \u001b[43m        \u001b[49m\u001b[43mt_outputs\u001b[49m\u001b[43m,\u001b[49m\u001b[43m \u001b[49m\u001b[38;5;241;43m*\u001b[39;49m\u001b[43margs\u001b[49m\u001b[43m,\u001b[49m\u001b[43m \u001b[49m\u001b[38;5;241;43m*\u001b[39;49m\u001b[38;5;241;43m*\u001b[39;49m\u001b[43mkwargs\u001b[49m\n\u001b[1;32m    827\u001b[0m \u001b[43m    \u001b[49m\u001b[43m)\u001b[49m  \u001b[38;5;66;03m# Calls into the C++ engine to run the backward pass\u001b[39;00m\n\u001b[1;32m    828\u001b[0m \u001b[38;5;28;01mfinally\u001b[39;00m:\n\u001b[1;32m    829\u001b[0m     \u001b[38;5;28;01mif\u001b[39;00m attach_logging_hooks:\n",
      "\u001b[0;31mKeyboardInterrupt\u001b[0m: "
     ]
    }
   ],
   "source": [
    "train_ds = TextDataset(\"./tiny.txt\", seq_len=128, c2i=c2i, split=\"train\")\n",
    "train_dl = DataLoader(train_ds, batch_size=32)\n",
    "\n",
    "device = torch.device(\"cpu\")\n",
    "vocab_size = len(chars)\n",
    "embed_dim = 256\n",
    "num_heads = 4\n",
    "num_layers = 4\n",
    "model = CharTransfomer(vocab_size, embed_dim=embed_dim, num_heads=num_heads, num_layers=num_layers)\n",
    "model.to(device)\n",
    "\n",
    "criterion = nn.CrossEntropyLoss()\n",
    "optimizer = optim.Adam(model.parameters())\n",
    "num_epochs = 1\n",
    "sample_interval = 250\n",
    "\n",
    "for epoch in range(32):\n",
    "    model.train()\n",
    "    tq = tqdm(train_dl, desc=f\"epoch {epoch+1}/{num_epochs}\", leave=True)\n",
    "\n",
    "    for step, (inputs, targets) in enumerate(tq):\n",
    "        inputs, targets = inputs.to(device), targets.to(device)\n",
    "        outputs = model(inputs)\n",
    "        loss = criterion(outputs.view(-1, vocab_size), targets.view(-1))\n",
    "        optimizer.zero_grad()\n",
    "        loss.backward()\n",
    "        optimizer.step()\n",
    "        tq.set_postfix(loss=f\"{loss.item():.4f}\")\n",
    "\n",
    "        if step % sample_interval == 0:\n",
    "            tqdm.write(sample_text(model, i2c, device, max_len=100))"
   ]
  }
 ],
 "metadata": {
  "kernelspec": {
   "display_name": "music-hw3",
   "language": "python",
   "name": "python3"
  },
  "language_info": {
   "codemirror_mode": {
    "name": "ipython",
    "version": 3
   },
   "file_extension": ".py",
   "mimetype": "text/x-python",
   "name": "python",
   "nbconvert_exporter": "python",
   "pygments_lexer": "ipython3",
   "version": "3.10.15"
  }
 },
 "nbformat": 4,
 "nbformat_minor": 2
}
